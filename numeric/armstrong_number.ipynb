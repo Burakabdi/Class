{
 "cells": [
  {
   "cell_type": "code",
   "execution_count": null,
   "metadata": {},
   "outputs": [],
   "source": [
    "#1-An Armstrong number is a number that is the sum of its own digits each raised to the power of the number of digits.\n",
    "\n",
    "# For example:\n",
    "\n",
    "# 9 is an Armstrong number, because 9 = 9^1 = 9\n",
    "# 10 is not an Armstrong number, because 10 != 1^2 + 0^2 = 1\n",
    "# 153 is an Armstrong number, because: 153 = 1^3 + 5^3 + 3^3 = 1 + 125 + 27 = 153\n",
    "# 154 is not an Armstrong number, because: 154 != 1^3 + 5^3 + 4^3 = 1 + 125 + 64 = 190\n",
    "# Write a code to determine whether a number is an Armstrong number.."
   ]
  },
  {
   "cell_type": "code",
   "execution_count": 4,
   "metadata": {},
   "outputs": [
    {
     "data": {
      "text/plain": [
       "True"
      ]
     },
     "execution_count": 4,
     "metadata": {},
     "output_type": "execute_result"
    }
   ],
   "source": [
    "def armstrong_determiner(x):\n",
    "    x_digits = []\n",
    "    power_of_numbers = []\n",
    "    for i in str(x):\n",
    "        x_digits.append(int(i))\n",
    "    for i in x_digits:\n",
    "        power_of_numbers.append(i**(len(x_digits)))\n",
    "    if sum(power_of_numbers) == x:\n",
    "        return True\n",
    "    else:\n",
    "        return False\n",
    "\n",
    "armstrong_determiner(153)\n"
   ]
  }
 ],
 "metadata": {
  "kernelspec": {
   "display_name": "Python 3.11.0 64-bit",
   "language": "python",
   "name": "python3"
  },
  "language_info": {
   "codemirror_mode": {
    "name": "ipython",
    "version": 3
   },
   "file_extension": ".py",
   "mimetype": "text/x-python",
   "name": "python",
   "nbconvert_exporter": "python",
   "pygments_lexer": "ipython3",
   "version": "3.11.0"
  },
  "orig_nbformat": 4,
  "vscode": {
   "interpreter": {
    "hash": "64924d34f5c95f261818ee0e41d58b43741dcf0b72677c10b726c1fe86046c0c"
   }
  }
 },
 "nbformat": 4,
 "nbformat_minor": 2
}
