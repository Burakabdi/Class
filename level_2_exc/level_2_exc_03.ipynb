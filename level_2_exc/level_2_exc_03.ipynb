{
 "cells": [
  {
   "cell_type": "code",
   "execution_count": null,
   "metadata": {},
   "outputs": [],
   "source": [
    "# 3-Take a nested list and return a single flattened list with all values except nil/null.\n",
    "# The challenge is to write a function that accepts an arbitrarily-deep nested list-like structure and returns a flattened structure without any nil/null values.\n",
    "# For example:\n",
    "# input: [1,[2,3,None,4],[None],5]\n",
    "# output: [1,2,3,4,5]"
   ]
  },
  {
   "cell_type": "code",
   "execution_count": null,
   "metadata": {},
   "outputs": [],
   "source": [
    "def flatten(iterable):\n",
    "    result = []\n",
    "    for item in iterable:\n",
    "        if isinstance(item, list):\n",
    "            result += flatten(item)\n",
    "        elif item != None:\n",
    "            result.append(item)\n",
    "    return result\n",
    "\n",
    "flatten([[1,[2,3,None,4],[None],5],[8,9,15],6])"
   ]
  }
 ],
 "metadata": {
  "language_info": {
   "name": "python"
  },
  "orig_nbformat": 4
 },
 "nbformat": 4,
 "nbformat_minor": 2
}
